{
 "cells": [
  {
   "cell_type": "code",
   "execution_count": null,
   "id": "5b9a68f9-6ff0-4ac9-8302-8bab5f950a0e",
   "metadata": {},
   "outputs": [],
   "source": [
    "import psycopg2\n",
    "from psycopg2 import Error\n",
    "\n",
    "try:\n",
    "    # Connect to an existing database\n",
    "    connection = psycopg2.connect(user=\"postgres\",\n",
    "                                  password=\"mysecretpassword\",\n",
    "                                  host=\"127.0.0.1\",\n",
    "                                  port=\"5432\",\n",
    "                                  database=\"postgres\")\n",
    "\n",
    "    # Create a cursor to perform database operations\n",
    "    cursor = connection.cursor()\n",
    "    # Print PostgreSQL details\n",
    "    print(\"PostgreSQL server information\")\n",
    "    print(connection.get_dsn_parameters(), \"\\n\")\n",
    "    # Executing a SQL query\n",
    "    cursor.execute(\"SELECT version();\")\n",
    "    # Fetch result\n",
    "    record = cursor.fetchone()\n",
    "    print(\"You are connected to - \", record, \"\\n\")\n",
    "\n",
    "except (Exception, Error) as error:\n",
    "    print(\"Error while connecting to PostgreSQL\", error)\n",
    "finally:\n",
    "    if (connection):\n",
    "        cursor.close()\n",
    "        connection.close()\n",
    "        print(\"PostgreSQL connection is closed\")"
   ]
  },
  {
   "cell_type": "code",
   "execution_count": 10,
   "id": "2a3927bf-a05d-4867-be95-aa9d9c4cbbce",
   "metadata": {},
   "outputs": [],
   "source": [
    "try:\n",
    "    # Connect to an existing database\n",
    "    conn = psycopg2.connect(database=\"postgres\",user=\"postgres\",password=\"mysecretpassword\")\n",
    "    \n",
    "    # Open a cursor to perform database operations\n",
    "    cur = conn.cursor()\n",
    "    \n",
    "    # Execute a command: this creates a new table\n",
    "    cur.execute(\"CREATE TABLE IF NOT EXISTS tiles(id SERIAL PRIMARY KEY, tileid VARCHAR(64), baseimageurl VARCHAR(256), tilex INT, tiley INT, tilez INT, time TIMESTAMP);\")\n",
    "    cur.execute(\"CREATE TABLE IF NOT EXISTS detections(id SERIAL PRIMARY KEY, tilex INT, tiley INT, tilez INT, time TIMESTAMP, name VARCHAR(64), location geography(POINT,4326));\")\n",
    "    cur.execute(\"CREATE TABLE IF NOT EXISTS metrics(id SERIAL PRIMARY KEY, tilex INT, tiley INT, tilez INT, time TIMESTAMP, name VARCHAR(64), value FLOAT);\")\n",
    "    \n",
    "    cur.close()\n",
    "    conn.commit()\n",
    "except (Exception, Error) as error:\n",
    "    print(\"Error while connecting to PostgreSQL\", error)"
   ]
  },
  {
   "cell_type": "code",
   "execution_count": 11,
   "id": "dce98194-f21b-4af1-9b5c-59201cb8681d",
   "metadata": {},
   "outputs": [],
   "source": [
    "try:\n",
    "    # Connect to an existing database\n",
    "    conn = psycopg2.connect(database=\"postgres\",user=\"postgres\", password=\"mysecretpassword\")\n",
    "    \n",
    "    # Open a cursor to perform database operations\n",
    "    cur = conn.cursor()\n",
    "    \n",
    "    cur.execute(\"INSERT INTO metrics (tilex, tiley, tilez, time, name, value) VALUES (1,1,1,NOW(),'cloudcover',0.9);\")\n",
    "    cur.execute(\"INSERT INTO detections (tilex, tiley, tilez, time, name, location) VALUES (1,1,1,NOW(),'boat','POINT(-22.6056 63.9850)');\")\n",
    "    \n",
    "    cur.close()\n",
    "    conn.commit()\n",
    "except (Exception, Error) as error:\n",
    "    print(\"Error while connecting to PostgreSQL\", error)"
   ]
  }
 ],
 "metadata": {
  "kernelspec": {
   "display_name": "Python 3 (ipykernel)",
   "language": "python",
   "name": "python3"
  },
  "language_info": {
   "codemirror_mode": {
    "name": "ipython",
    "version": 3
   },
   "file_extension": ".py",
   "mimetype": "text/x-python",
   "name": "python",
   "nbconvert_exporter": "python",
   "pygments_lexer": "ipython3",
   "version": "3.10.6"
  }
 },
 "nbformat": 4,
 "nbformat_minor": 5
}
