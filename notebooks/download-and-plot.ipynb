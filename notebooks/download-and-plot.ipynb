{
 "cells": [
  {
   "cell_type": "code",
   "execution_count": 2,
   "id": "e5d13e7b-c6d5-46c5-abaa-ca0016b775c9",
   "metadata": {},
   "outputs": [],
   "source": [
    "api_url = \"https://earth-search.aws.element84.com/v1\"\n",
    "from pystac_client import Client\n",
    "client = Client.open(api_url)\n",
    "collection = \"sentinel-2-l2a\"  # Sentinel-2, Level 2A, Cloud Optimized GeoTiffs (COGs)"
   ]
  },
  {
   "cell_type": "code",
   "execution_count": 69,
   "id": "0e30d8a4-b23f-4c26-ab68-f87403b72633",
   "metadata": {},
   "outputs": [
    {
     "name": "stdout",
     "output_type": "stream",
     "text": [
      "Point(latitude=51.303145259199056, longitude=-0.3515624999999904)\n",
      "(Point(latitude=51.303145259199056, longitude=-0.3515624999999904), Point(latitude=51.31001339554934, longitude=-0.34057617187499906))\n",
      "Bounds:  POLYGON ((-0.3515624999999904 51.303145259199056, -0.3405761718749991 51.303145259199056, -0.3405761718749991 51.31001339554934, -0.3515624999999904 51.31001339554934, -0.3515624999999904 51.303145259199056))\n"
     ]
    }
   ],
   "source": [
    "from pygeotile.tile import Tile\n",
    "from pygeotile.point import Point as pyPoint\n",
    "from shapely.geometry import Point, Polygon\n",
    "\n",
    "tms_x, tms_y, zoom = 16352, 10925, 15\n",
    "tile = Tile.from_google(google_x=tms_x, google_y=tms_y, zoom=zoom)  # Tile Map Service (TMS) X Y and zoom\n",
    "print(tile.bounds[0])\n",
    "polygon = Polygon([\n",
    "    Point(tile.bounds[0].longitude,tile.bounds[0].latitude),\n",
    "    Point(tile.bounds[1].longitude,tile.bounds[0].latitude),\n",
    "    Point(tile.bounds[1].longitude,tile.bounds[1].latitude),\n",
    "    Point(tile.bounds[0].longitude,tile.bounds[1].latitude)\n",
    "])\n",
    "\n",
    "\n",
    "print(tile.bounds)\n",
    "print('Bounds: ',polygon.wkt)"
   ]
  },
  {
   "cell_type": "code",
   "execution_count": 70,
   "id": "de33983e-774d-4d8a-9ac1-7b136c119159",
   "metadata": {},
   "outputs": [
    {
     "name": "stdout",
     "output_type": "stream",
     "text": [
      "1003\n",
      "6.164407\n",
      "S2A_30UXB_20230915_0_L2A\n",
      "POLYGON ((-39135.75848200917 6675092.80608787, -37912.76602944732 6675092.80608787, -37912.76602944732 6676315.798540436, -39135.75848200917 6676315.798540436, -39135.75848200917 6675092.80608787))\n",
      "BoundingBox(left=-177141.02370308578, bottom=6520436.993711313, right=1894.787500990933, top=6699916.905084926)\n",
      "EPSG:3857\n"
     ]
    }
   ],
   "source": [
    "import numpy as np\n",
    "import rasterio\n",
    "from rasterio.warp import calculate_default_transform, reproject, Resampling\n",
    "\n",
    "import rasterio.plot\n",
    "import rasterio.mask\n",
    "import os\n",
    "import urllib\n",
    "search = client.search(\n",
    "    collections=[collection],\n",
    "    intersects=polygon,\n",
    "    max_items=100,\n",
    "    sortby=[\n",
    "            {\"direction\": \"desc\", \"field\": \"properties.datetime\"},\n",
    "            {\"direction\": \"asc\", \"field\": \"id\"}\n",
    "    ]\n",
    ")\n",
    "\n",
    "dst_crs = 'EPSG:3857'\n",
    "\n",
    "print(search.matched())\n",
    "item = [item for item in search.items() if item.properties['eo:cloud_cover'] < 20][0]\n",
    "print(item.properties['eo:cloud_cover'])\n",
    "print(item.id)\n",
    "file_loc = item.id+\".tif\"\n",
    "file_dest = str(tms_x)+str(tms_y)+str(zoom)+\".tif\"\n",
    "if (not os.path.isfile(file_loc)):\n",
    "    urllib.request.urlretrieve(item.assets['visual'].href, file_loc)\n",
    "with rasterio.open(file_loc) as dataset:\n",
    "    #rasterio.plot.show(dataset)\n",
    "    #reprojectn('EPSG:'+str(item.properties['proj:epsg']),'EPSG:3857')\n",
    "    transform, width, height = calculate_default_transform(\n",
    "    dataset.crs, dst_crs, dataset.width, dataset.height, *dataset.bounds)\n",
    "    kwargs = dataset.meta.copy()\n",
    "    kwargs.update({\n",
    "        'crs': dst_crs,\n",
    "        'transform': transform,\n",
    "        'width': width,\n",
    "        'height': height\n",
    "    })\n",
    "    with rasterio.open(file_dest, 'w', **kwargs) as dst:\n",
    "        for i in range(1, dataset.count + 1):\n",
    "            reproject(\n",
    "                source=rasterio.band(dataset, i),\n",
    "                destination=rasterio.band(dst, i),\n",
    "                src_transform=dataset.transform,\n",
    "                src_crs=dataset.crs,\n",
    "                dst_transform=transform,\n",
    "                dst_crs=dst_crs,\n",
    "                resampling=Resampling.bilinear)\n",
    "    with rasterio.open(file_dest) as src:\n",
    "        polygon_3857 = Polygon([\n",
    "            pyPoint.from_latitude_longitude(latitude=tile.bounds[0].latitude,longitude=tile.bounds[0].longitude).meters,\n",
    "            pyPoint.from_latitude_longitude(latitude=tile.bounds[0].latitude,longitude=tile.bounds[1].longitude).meters,\n",
    "            pyPoint.from_latitude_longitude(latitude=tile.bounds[1].latitude,longitude=tile.bounds[1].longitude).meters,\n",
    "            pyPoint.from_latitude_longitude(latitude=tile.bounds[1].latitude,longitude=tile.bounds[0].longitude).meters,\n",
    "        ])\n",
    "        print(polygon_3857)\n",
    "        print(src.bounds)\n",
    "        print(src.crs)\n",
    "        out_image, out_transform = rasterio.mask.mask(src, [polygon_3857], crop=True)\n",
    "        out_meta = src.meta\n",
    "        out_meta.update({\"driver\": \"GTiff\",\n",
    "                 \"height\": out_image.shape[1],\n",
    "                 \"width\": out_image.shape[2],\n",
    "                 \"transform\": out_transform})\n",
    "        with rasterio.open(\"cropped-\"+file_dest, \"w\", **out_meta) as dest:\n",
    "            dest.write(out_image)"
   ]
  },
  {
   "cell_type": "code",
   "execution_count": 25,
   "id": "3a8a7c1b-bad3-4350-b309-941f6985abad",
   "metadata": {},
   "outputs": [],
   "source": []
  }
 ],
 "metadata": {
  "kernelspec": {
   "display_name": "Python 3 (ipykernel)",
   "language": "python",
   "name": "python3"
  },
  "language_info": {
   "codemirror_mode": {
    "name": "ipython",
    "version": 3
   },
   "file_extension": ".py",
   "mimetype": "text/x-python",
   "name": "python",
   "nbconvert_exporter": "python",
   "pygments_lexer": "ipython3",
   "version": "3.10.6"
  }
 },
 "nbformat": 4,
 "nbformat_minor": 5
}
