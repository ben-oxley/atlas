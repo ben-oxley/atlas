{
 "cells": [
  {
   "cell_type": "markdown",
   "id": "8d792711-e449-4736-9429-55bcc584c6c8",
   "metadata": {},
   "source": [
    "# Processing Scene Classification Layer from sentinel 2 data\n",
    "- 0 No data\n",
    "- 1 Saturated or defective\n",
    "- 2 Dark area pixels\n",
    "- 3 Cloud shadows\n",
    "- 4 Vegetation\n",
    "- 5 Bare soils\n",
    "- 6 Water\n",
    "- 7 Unclassified\n",
    "- 8 Cloud medium probability\n",
    "- 9 Cloud high probability\n",
    "- 10 Thin cirrus\n",
    "- 11 Snow or ice"
   ]
  },
  {
   "cell_type": "code",
   "execution_count": 8,
   "id": "8585d2d3-b2fb-49bf-a1c1-11799e40e23c",
   "metadata": {},
   "outputs": [
    {
     "name": "stderr",
     "output_type": "stream",
     "text": [
      "Ultralytics YOLOv8.0.191  Python-3.10.6 torch-2.0.1+cpu CPU (Intel Core(TM) i7-1065G7 1.30GHz)\n",
      "Setup complete  (8 CPUs, 15.8 GB RAM, 356.2/400.7 GB disk)\n",
      "\n",
      "0: 640x640 2 boats, 1: 640x640 (no detections), 2: 640x640 (no detections), 3: 640x640 (no detections), 4: 640x640 (no detections), 5: 640x640 (no detections), 6: 640x640 (no detections), 7: 640x640 (no detections), 8: 640x640 (no detections), 9: 640x640 (no detections), 10: 640x640 (no detections), 11: 640x640 (no detections), 12: 640x640 (no detections), 13: 640x640 1 boat, 14: 640x640 (no detections), 15: 640x640 (no detections), 16: 640x640 (no detections), 17: 640x640 (no detections), 18: 640x640 (no detections), 19: 640x640 (no detections), 20: 640x640 (no detections), 21: 640x640 (no detections), 22: 640x640 (no detections), 23: 640x640 (no detections), 24: 640x640 1 boat, 25: 640x640 (no detections), 26: 640x640 (no detections), 27: 640x640 1 boat, 28: 640x640 (no detections), 29: 640x640 (no detections), 30: 640x640 (no detections), 31: 640x640 (no detections), 32: 640x640 (no detections), 33: 640x640 (no detections), 34: 640x640 (no detections), 35: 640x640 (no detections), 36: 640x640 (no detections), 37: 640x640 (no detections), 38: 640x640 (no detections), 39: 640x640 (no detections), 40: 640x640 (no detections), 41: 640x640 (no detections), 42: 640x640 (no detections), 43: 640x640 (no detections), 44: 640x640 (no detections), 45: 640x640 (no detections), 46: 640x640 (no detections), 47: 640x640 (no detections), 48: 640x640 (no detections), 49: 640x640 (no detections), 50: 640x640 (no detections), 51: 640x640 (no detections), 52: 640x640 (no detections), 53: 640x640 (no detections), 54: 640x640 (no detections), 55: 640x640 (no detections), 56: 640x640 (no detections), 57: 640x640 (no detections), 58: 640x640 (no detections), 59: 640x640 (no detections), 60: 640x640 (no detections), 61: 640x640 (no detections), 62: 640x640 (no detections), 63: 640x640 (no detections), 64: 640x640 (no detections), 65: 640x640 (no detections), 66: 640x640 (no detections), 67: 640x640 (no detections), 68: 640x640 (no detections), 69: 640x640 (no detections), 70: 640x640 (no detections), 71: 640x640 (no detections), 72: 640x640 (no detections), 73: 640x640 (no detections), 74: 640x640 (no detections), 75: 640x640 (no detections), 76: 640x640 (no detections), 77: 640x640 (no detections), 78: 640x640 (no detections), 79: 640x640 (no detections), 80: 640x640 (no detections), 81: 640x640 (no detections), 46489.2ms\n",
      "Speed: 3.2ms preprocess, 566.9ms inference, 0.4ms postprocess per image at shape (1, 3, 640, 640)\n",
      "Results saved to \u001b[1mruns\\detect\\predict5\u001b[0m\n"
     ]
    }
   ],
   "source": [
    "from PIL import Image\n",
    "from ultralytics import YOLO\n",
    "from pathlib import Path\n",
    "\n",
    "import ultralytics\n",
    "ultralytics.checks()\n",
    "\n",
    "test_imgs = Path('.').glob('cropped-*.tif')\n",
    "test_imgs = [str(x) for x in test_imgs]\n",
    "len(test_imgs)\n",
    "# From https://github.com/robmarkcole/kaggle-ships-in-Google-Earth-with-YOLOv8/blob/main/models/yolov8m_best.pt\n",
    "model = YOLO(f'../models/yolov8m_best.pt')\n",
    "results = model.predict(source=test_imgs, conf=0.4, save=True)"
   ]
  }
 ],
 "metadata": {
  "kernelspec": {
   "display_name": "Python 3 (ipykernel)",
   "language": "python",
   "name": "python3"
  },
  "language_info": {
   "codemirror_mode": {
    "name": "ipython",
    "version": 3
   },
   "file_extension": ".py",
   "mimetype": "text/x-python",
   "name": "python",
   "nbconvert_exporter": "python",
   "pygments_lexer": "ipython3",
   "version": "3.10.6"
  }
 },
 "nbformat": 4,
 "nbformat_minor": 5
}
